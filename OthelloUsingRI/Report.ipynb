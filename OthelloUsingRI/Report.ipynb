{
 "cells": [
  {
   "cell_type": "markdown",
   "metadata": {},
   "source": [
    "# Othello game using Reinforcement Learning & Negamax"
   ]
  },
  {
   "cell_type": "markdown",
   "metadata": {},
   "source": [
    "*By* \n",
    "\n",
    "*Avinash Konduru (avinash.konduru@colostate.edu)*\n",
    "\n",
    "*& Nikhila Chireddy (cnreddy@colostate.edu)*"
   ]
  },
  {
   "cell_type": "markdown",
   "metadata": {},
   "source": [
    "# Table of Contents\n",
    "* [Introduction](#Introduction)\n",
    "* [Othello](#Othello)\n",
    "* [Methods](#Methods)\n",
    "* [Code](#Code)\n",
    "* [Results](#Results)\n",
    "* [Roles](#Roles)\n",
    "* [Conclusion](#Conclusion)\n",
    "* [References](#References)"
   ]
  },
  {
   "cell_type": "markdown",
   "metadata": {},
   "source": [
    "## <font color='blue'>Introduction</font>"
   ]
  },
  {
   "cell_type": "markdown",
   "metadata": {},
   "source": [
    "In video games, **artificial intelligence** is used to generate responsive or intelligent behaviors primarily in non-player characters (NPCs), similar to human-like intelligence. These NPCs are generally referred as **bots**. A bot is a type of AI expert system software that plays a video game in place of a human. \n",
    "\n",
    "Implementing a game as term project would be more fun when compared to building a model for classification. We would be spending hours playing our own game in the name of testing as well understand competency of AI, rather than spending hours analysing the given data to fit the a right model that can classify the data.\n",
    "\n",
    "**Othello** $^{[1]}$ is an abstract strategy game. Someone once said *Othello - 'A minute to learn... A life time to master'*. And we ended up playing it number of times (available online) just to understand how the existing AI works and see if we can beat it.\n",
    "\n",
    "In our project we have used the Negamax search algorithm along with Reinforcement Learning to train and play **Othello** . \n",
    "\n",
    "From our research, we felt that if the AI is trained using Reinforcement Learning, it would play faster and better and would also be more challenging for the player. Thus we started with Negamax AlphaBeta Pruning and then trained the AI using Reinforcement Learning. \n",
    "\n",
    "For each game played by the player, the AI learns from the moves and keeps updating the Q-table thus making the AI more intelligent. We have trained our AI for 500 games against the negamax AI and later tested it by playing about 100 games manually. The results section shows different plots of the number of games won by the AI and the number of steps for each game. "
   ]
  },
  {
   "cell_type": "markdown",
   "metadata": {},
   "source": [
    "\n",
    "## <font color='blue'>Othello</font>\n",
    "\n",
    "Othello$^{[2]}$ is a strategy game played by two players: Black and White. It is played on an 8x8 board (usually Green in colour), called the Othello board. The two players place 64 discs, each of which is black on one side and white on the other.\n",
    "\n",
    "##### Goal\n",
    "\n",
    "The winner is the player who has more discs of his colour than his opponent at the end of the game. This will happen when neither of the two players has a legal move. Generally at this stage all 64 squares are occupied.\n",
    "\n",
    "##### Starting Position\n",
    "\n",
    "At the beginning of the game, two black discs are placed on e4 and d5 and two white discs on d4 and e5.\n",
    "\n",
    "<img src = \"http://www.iggamecenter.com/images/info/reversi/2.png\" >\n",
    "\n",
    "Black always begins, and the two players subsequently take turns moving.\n",
    "\n",
    "##### Making a Move\n",
    "\n",
    "At his turn, a player must place a disc of his colour on one of the empty squares of the othello board, adjacent to an opponent's disc. In addition, by placing his disc, he must flank one or several of his opponent's discs between the disc played and another disc of his own colour already on the board. He then flips to his colour all the discs which were flanked. The discs are neither removed from the Othello board nor moved from one square to another.\n",
    "\n",
    "If the second player cannot make a move to flip at least one of the opponent's discs according to these rules, he must pass his turn and the opponent once again gets the turn to play. But if a move is possible, player cannot pass it.\n",
    "\n",
    "##### End of the Game\n",
    "\n",
    "The game is over when neither of the two players has a legal move or when the board is filled.\n",
    "\n",
    "##### Deciding the Winner\n",
    "\n",
    "The player who has maximum number of disks on the board wins the game."
   ]
  },
  {
   "cell_type": "markdown",
   "metadata": {},
   "source": [
    "## <font color='blue'>Methods</font>"
   ]
  },
  {
   "cell_type": "markdown",
   "metadata": {},
   "source": [
    "Our game has two different modes of AI for the user to select - Negamax AI and RL QTable AI, which uses Negamax Alpha Beta Pruning and Reinforcement Learning respectively.\n",
    "\n",
    "### Negamax\n",
    "\n",
    "**NegaMax** is a variant form of the minimax search that relies on the zero-sum property of a two-player game. Each node and root node in the tree are game states (such as game board configuration) of a two player game. Transitions to child nodes represent moves available to a player who's about to play from a given node.\n",
    "The negamax search objective is to find the node score value for the player who is playing at the root node. \n",
    "\n",
    "Alpha-beta pruning can decrease the number of nodes the negamax algorithm evaluates in a search tree. Alpha (α) and beta (β) represent lower and upper bounds for child nodes at a given tree depth. Negamax sets the arguments α and β for the root node to the lowest and highest values possible. When negamax encounters a child node outside an alpha/beta range, the negamax search cuts off, thereby pruning portions of the game tree from exploration. Cut offs are implicit based on the node return value, bestValue. A node value found within the range of its initial α and β is the node's exact (or true) value. This value is identical to the result the negamax base algorithm would return, without cut offs and without any α and β bounds. If a node return value is out of range, then the value represents an upper (if value ≤ α) or lower (if value ≥ β) bound for the node's exact value. Alpha-beta pruning eventually discards any value bound results. Such values do not contribute nor affect the negamax value at its root node$^{[3]}$.\n",
    "\n",
    "### Reinforcement Learning\n",
    "\n",
    "**Reinforcement learning (RL)** is an area of machine learning inspired by behaviourist psychology, concerned with how software agents ought to take actions in an environment so as to maximize some notion of cumulative reward$^{[4]}$. \n",
    "\n",
    "The core of most reinforcement learning approaches is learning a Q function that tell us utility of each state in the game. We can easily decide which action to take by choosing the action that lead to a state with higher utility (or fitness).\n",
    "\n",
    "For our game, we have generated the Q-Table for 500 games, where the opponent used Negamax algorithm to make a move. The results section shows the statistics of number of games won by the AI against the Negamax AI and also the number of steps for each game.\n",
    "\n",
    "After training the AI, we manually tested it by playing games. For each game played, we update the Q-table for each move. Thus we increase the learning of the AI.\n",
    "\n",
    "We have taken the lecture notes as reference for implementing the Negamax alpha beta pruning and Reinforcement Learning algorithms.\n"
   ]
  },
  {
   "cell_type": "markdown",
   "metadata": {},
   "source": [
    "## <font color='blue'>Code</font>"
   ]
  },
  {
   "cell_type": "markdown",
   "metadata": {},
   "source": [
    "To create the user interface, we have used the Pygame python library. It is supported only in python version 2.7. To ensure compatibility, we have implemented the other classes also in the same version. \n",
    "\n",
    "**Pygame**$^{[5]}$ is a cross-platform set of Python modules designed for writing video games. It includes computer graphics and sound libraries designed to be used with the Python programming language. \n",
    "\n",
    "We have used an existing version of Othello GUI written by - Humberto Henrique Campos Pinheiro$^{[6]}$ and modified it accordingly based on our needs.\n",
    "\n",
    "\n",
    "We have written 5 classes for our project.\n",
    "\n",
    "1. OthelloBoard - This class initializes the Othello board and has the methods to get the valid moves, perform a move operation, get the winner, etc.\n",
    "2. Gui - This class implementes the GUI for the Othello board. It is updated for each move.\n",
    "3. NegaMax - This class has the Negamax alpha beta pruning algorithm implementation.\n",
    "4. QTable - This class applies reinforcement learning on the board and generates the Q-Table\n",
    "5. Othello - This class initializes the game with Black as human and White as the AI. Based on our selection of AI agent in the initial screen, it invokes either the Negamax or Reinforcement Learning Algorithm. The game class interacts with the GUI and controls all the other operations.\n",
    "\n",
    "The code below shows the implementation of the Othello class.\n",
    "\n",
    "**Note**: Please ensure to extract the tar file submitted along with this notebook in order to execute the below code correctly"
   ]
  },
  {
   "cell_type": "code",
   "execution_count": 9,
   "metadata": {
    "collapsed": true
   },
   "outputs": [],
   "source": [
    "#'''\n",
    "\n",
    "#The following is code borrowed from https://github.com/humbhenri/pyOthello/blob/master/othello.pyw \n",
    "\n",
    "#Original code is written by - Humberto Henrique Campos Pinheiro\n",
    "\n",
    "#We have modified a little bit to meet our project requirements\n",
    "\n",
    "#Avinash Konduru, Nikhila Chireddy\n",
    "\n",
    "#'''\n",
    "\n",
    "import pygame\n",
    "from OthelloUI import Gui\n",
    "from Players import NegamaxAI, Human\n",
    "from Board import OthelloBoard\n",
    "from Constants import BLACK, WHITE,EASY,HARD\n",
    "from RL import QtableAI\n",
    "import win32api\n",
    "\n",
    "#py2exe workaround\n",
    "import sys\n",
    "import os\n",
    "sys.stdout = open(os.devnull, 'w')\n",
    "sys.stderr = open(os.devnull, 'w')\n",
    "\n",
    "\n",
    "class Othello:\n",
    "\n",
    "    ##\"\"\"\n",
    "    #Game main class.\n",
    "    #\"\"\"\n",
    "\n",
    "    def __init__(self):\n",
    "        \"\"\" Show options screen and start game modules\"\"\"\n",
    "        # start\n",
    "        self.gui = Gui()\n",
    "        self.board = OthelloBoard()\n",
    "        self.get_options()        \n",
    "\n",
    "    def get_options(self):\n",
    "        # set up players\n",
    "        player1, player2, mode = self.gui.show_options()\n",
    "        \n",
    "        #player1 will always be HUMAN, thus assigning to HUMAN\n",
    "        self.now_playing = Human(self.gui, BLACK)\n",
    "        \n",
    "        if mode == HARD:\n",
    "            self.other_player = QtableAI(WHITE)\n",
    "            \n",
    "            #Load the Qtable from file\n",
    "            isSuccess = self.other_player.LoadTrainedAI()\n",
    "            if isSuccess == False:\n",
    "                self.other_player = NegamaxAI(WHITE, 5)\n",
    "                \n",
    "        if mode == EASY:\n",
    "            self.other_player = NegamaxAI(WHITE, 5)\n",
    "\n",
    "        self.gui.show_game()\n",
    "        self.gui.update(self.board.board, 2, 2,self.now_playing.color)\n",
    "\n",
    "    def run(self):\n",
    "        \n",
    "        #clock = pygame.time.Clock()\n",
    "        while True:\n",
    "            \n",
    "            #clock.tick(60)\n",
    "            isGameOver,winner = self.board.IsGameOver()\n",
    "            \n",
    "            if isGameOver == True:\n",
    "                break\n",
    "            \n",
    "            #self.now_playing.get_current_board(self.board)\n",
    "            moves = self.board.GetValidMoves(self.now_playing.color)\n",
    "            if moves != []:\n",
    "                \n",
    "                score, self.board = self.now_playing.MakeMove(self.board)\n",
    "                \n",
    "                whites, blacks, empty = self.board.GetCounts()\n",
    "                                \n",
    "            self.now_playing, self.other_player = self.other_player, self.now_playing\n",
    "            self.gui.update(self.board.board, blacks, whites,self.now_playing.color)\n",
    "            if self.now_playing.color == WHITE:\n",
    "                pygame.time.wait(1000)\n",
    "        \n",
    "        pygame.time.wait(3000)\n",
    "        \n",
    "        self.gui.show_winner(winner)\n",
    "        \n",
    "        self.restart()\n",
    "\n",
    "    def restart(self):\n",
    "        self.board = OthelloBoard()\n",
    "        self.get_options()\n",
    "        self.run()\n",
    "\n",
    "\n"
   ]
  },
  {
   "cell_type": "code",
   "execution_count": 10,
   "metadata": {},
   "outputs": [],
   "source": [
    "def main():\n",
    "    game = Othello()\n",
    "    game.run()\n",
    "\n",
    "#main()"
   ]
  },
  {
   "attachments": {
    "image.png": {
     "image/png": "[encoded data removed]"
    }
   },
   "cell_type": "markdown",
   "metadata": {},
   "source": [
    "The above command will open a pyGame Window, which allows us to select one of the two different modes available. Please refer to screen shot attached. Please ignore the exception below the `main()` function call, since the opened GUI runs on a seperate thread and kernel will be busy as long as we play the game. Once we close the game, Kernel will throw the above exception since it is interrupted.\n",
    "\n",
    "![image.png](attachment:image.png)\n",
    "\n",
    " \n",
    "1. Negamax AI - The AI internally uses the negamax algorithm in this mode.\n",
    "2. RL QTable AI - The AI uses Reinforcement Learning in this mode."
   ]
  },
  {
   "cell_type": "markdown",
   "metadata": {},
   "source": [
    "## <font color='blue'>Results</font>"
   ]
  },
  {
   "cell_type": "markdown",
   "metadata": {},
   "source": [
    "#### Negamax Results:\n",
    "\n",
    "In our approach, we have experimented Negamax Alpha Beta Pruning with different depth limits. The below table shows the average time taken by the AI for different depth values.\n",
    "\n",
    "\n",
    "<table>\n",
    "<th ><center>Depth</center></th>\n",
    "<th ><center>Avg Time taken for a move</center></th>\n",
    "<tr style = \"text-align: left\">\n",
    "<td >3</td>\n",
    "<td >1.23 seconds</td>\n",
    "</tr>\n",
    "<tr style = \"text-align: left\" >\n",
    "<td>5</td>\n",
    "<td>2.34 seconds</td>\n",
    "</tr>\n",
    "<tr style = \"text-align: left\">\n",
    "<td>10</td>\n",
    "<td>110 seconds</td>\n",
    "</tr>\n",
    "<tr style = \"text-align: left\">\n",
    "<td>20</td>\n",
    "<td>404 secons</td>\n",
    "</tr>\n",
    "</table>\n",
    "\n",
    "From the above table, it is evident that as the depth increases, the time taken by the AI to make a move also increases. The depth values 3 and 5 are taking lesser time but then, negamax with depth 3 was not very successful in returning a move out of the available valid moves on any given state of the Othello Board. Depth 10 and 20 return moves which have higher win chances but take more time. \n",
    "\n",
    "Since we want the game to be interactive as well as challenging, we have considered the depth value as 5 which has a decent performance.\n"
   ]
  },
  {
   "cell_type": "markdown",
   "metadata": {},
   "source": [
    "#### Reinforcement Learning Results:\n",
    "\n",
    "We have trained the AI for 500 games, where the opponent is also an AI which uses the Negamax algorithm with depth 3 to make a move. Below are the different plots that show the statistics of number of games won by the AI against the Negamax AI and also the number of steps for each game."
   ]
  },
  {
   "cell_type": "code",
   "execution_count": 11,
   "metadata": {
    "collapsed": true
   },
   "outputs": [],
   "source": [
    "import glob\n",
    "import numpy as np\n",
    "import ntpath\n",
    "import matplotlib.pyplot as plt\n",
    "%matplotlib inline"
   ]
  },
  {
   "cell_type": "code",
   "execution_count": 12,
   "metadata": {
    "collapsed": true
   },
   "outputs": [],
   "source": [
    "def Plot(filePath,numIterations):\n",
    "\n",
    "    files = glob.glob(filePath)\n",
    "    plt.figure(figsize=(20,20))\n",
    "    c=1\n",
    "    X = np.asarray(list(range(numIterations)))\n",
    "    for file in files:\n",
    "        Y = np.loadtxt(file, dtype=float)    \n",
    "        plt.subplot(3,3, c)\n",
    "        filename = ntpath.basename(file)    \n",
    "        plt.scatter(X,Y,alpha='0.5',label=filename.split('.')[0])\n",
    "        plt.xlabel(ntpath.basename(file))\n",
    "        plt.legend()\n",
    "        c=c+1"
   ]
  },
  {
   "cell_type": "code",
   "execution_count": 13,
   "metadata": {},
   "outputs": [
    {
     "data": {
      "image/png": "[encoded data removed]",
      "text/plain": [
       "<matplotlib.figure.Figure at 0xb700320>"
      ]
     },
     "metadata": {},
     "output_type": "display_data"
    }
   ],
   "source": [
    "Plot('./*_500.txt',500)"
   ]
  },
  {
   "cell_type": "markdown",
   "metadata": {},
   "source": [
    "As we can see from the plots, the number of games won by the Reinforcement AI is almost equal to the number of games it lost.\n",
    "There are also some games where the result was a tie which indicates that both the AI bots were competent enough to stop the other from winning. Also, the number of steps is always above 30 which also indicates the same.\n",
    "\n",
    "With the Negamax AI of depth 3, the results were obtained very fast for 500 games(~15mins).\n",
    "\n",
    "After training the AI, we manually tested it by playing games. For each game played, we update the Q-table for each move. Thus we increase the learning of the AI.\n",
    "\n",
    "\n",
    "We have re-trained the AI for 100games by increasing the competency of Negamax AI (with depth limit 5). This took almost 5 hours for execution. The results are as follows:"
   ]
  },
  {
   "cell_type": "code",
   "execution_count": 14,
   "metadata": {
    "scrolled": false
   },
   "outputs": [
    {
     "data": {
      "image/png": "[encoded data removed]",
      "text/plain": [
       "<matplotlib.figure.Figure at 0xbac6748>"
      ]
     },
     "metadata": {},
     "output_type": "display_data"
    }
   ],
   "source": [
    "Plot('./*_100.txt',100)"
   ]
  },
  {
   "cell_type": "markdown",
   "metadata": {},
   "source": [
    "From the plots, we can see that the results are almost similar to the training that we have done earlier with Negamax of depth-3. However, in this case the number of wins of Negamax seems to be slightly more than the Reinforcement Learning AI.\n",
    "\n",
    "After all the training process, the final size of the Q-table after writing into the file is ~9MB."
   ]
  },
  {
   "cell_type": "markdown",
   "metadata": {},
   "source": [
    "\n",
    "## <font color='blue'>Roles</font>\n",
    "\n",
    "<table>\n",
    "<th></th>\n",
    "<th ><center>Avinash</center></th>\n",
    "<th ><center>Nikhila</center></th>\n",
    "<tr style = \"text-align: left\">\n",
    "<td >Week1</td>\n",
    "<td >Worked on GUI</td>\n",
    "<td>Implemented the Board class</td>\n",
    "</tr>\n",
    "<tr style = \"text-align: left\" >\n",
    "<td>Week2</td>\n",
    "<td>Implemented NegaMax Alpha Beta Pruning</td>\n",
    "<td>Implemented Game Class</td>\n",
    "</tr>\n",
    "<tr style = \"text-align: left\">\n",
    "<td>Week3</td>\n",
    "<td>Updating the Q-Table, Writing the Q-table to a file and reading from it.\n",
    "    Integrating the code with the existing Negamax implementation</td>\n",
    "<td>Implemented the Reinforcement Learning Algorithm to train the Q-Table</td>\n",
    "</tr>\n",
    "<tr style = \"text-align: left\">\n",
    "<td>Week4</td>\n",
    "<td>Re-training the model by playing the game multiple times, Testing and evaluating the game.</td>\n",
    "<td>Re-training the model by playing the game multiple times, Testing and evaluating the game.</td>\n",
    "</tr>\n",
    "\n",
    "</table>"
   ]
  },
  {
   "cell_type": "markdown",
   "metadata": {},
   "source": [
    "## <font color='blue'>Conclusions</font>"
   ]
  },
  {
   "cell_type": "markdown",
   "metadata": {},
   "source": [
    "* The project was really interesting in the aspect of understanding how the Reinforcement Learning and Negamax search algorithm help us solve the different abstract strategy games. \n",
    "\n",
    "* We learnt how to implement GUI in python using the Pygame library.\n",
    "\n",
    "* Learnt how to efficiently write classes in Python.\n",
    "\n",
    "* From our experience, we found that Reinforcement learning performs better and faster than the Negamax algorithm. However, for our project, the negamax AI was able to give good competition to the Reinforcement Learning AI. Negamax has higher win chances but Reinforcement Learning performs faster. May be training the Reinforcement AI for longer time against the Negamax AI would more good results. Reinforcement Learning with neural networks could also improve the performance.\n",
    "\n",
    "*Finally, implementing this project was really fun and we could not stop playing against our own AI.*"
   ]
  },
  {
   "cell_type": "markdown",
   "metadata": {},
   "source": [
    "## References"
   ]
  },
  {
   "cell_type": "markdown",
   "metadata": {},
   "source": [
    "1. [Othello](https://en.wikipedia.org/wiki/Othello)\n",
    "2. [Othello Strategy](http://radagast.se/othello/Help/strategy.html)\n",
    "3. [Reinforcement Learning](https://en.wikipedia.org/wiki/Reinforcement_learning)\n",
    "4. [Negamax](https://en.wikipedia.org/wiki/Negamax)\n",
    "5. [Pygame](https://www.pygame.org/news)\n",
    "6. https://github.com/humbhenri/pyOthello/blob/master/ui.py\n",
    "7. [12-Negamax](http://nbviewer.jupyter.org/url/www.cs.colostate.edu/~anderson/cs440/notebooks/12%20Negamax.ipynb)\n",
    "8. [14-Introduction to Reinforcement Learning](http://nbviewer.jupyter.org/url/www.cs.colostate.edu/~anderson/cs440/notebooks/14%20Introduction%20to%20Reinforcement%20Learning.ipynb)\n",
    "9. [15-Reinforcement Learning for two-players](http://nbviewer.jupyter.org/url/www.cs.colostate.edu/~anderson/cs440/notebooks/15%20Reinforcement%20Learning%20for%20Two-Player%20Games.ipynb)\n"
   ]
  }
 ],
 "metadata": {
  "kernelspec": {
   "display_name": "Python 2",
   "language": "python",
   "name": "python2"
  },
  "language_info": {
   "codemirror_mode": {
    "name": "ipython",
    "version": 2
   },
   "file_extension": ".py",
   "mimetype": "text/x-python",
   "name": "python",
   "nbconvert_exporter": "python",
   "pygments_lexer": "ipython2",
   "version": "2.7.13"
  }
 },
 "nbformat": 4,
 "nbformat_minor": 1
}
